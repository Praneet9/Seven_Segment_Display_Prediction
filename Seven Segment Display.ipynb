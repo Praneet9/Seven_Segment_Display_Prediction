{
 "cells": [
  {
   "cell_type": "code",
   "execution_count": 1,
   "metadata": {
    "ExecuteTime": {
     "end_time": "2019-01-11T09:19:29.778965Z",
     "start_time": "2019-01-11T09:19:28.491911Z"
    }
   },
   "outputs": [
    {
     "name": "stderr",
     "output_type": "stream",
     "text": [
      "/home/praneet/envs/deeplearning/lib/python3.5/site-packages/h5py/__init__.py:36: FutureWarning: Conversion of the second argument of issubdtype from `float` to `np.floating` is deprecated. In future, it will be treated as `np.float64 == np.dtype(float).type`.\n",
      "  from ._conv import register_converters as _register_converters\n",
      "Using TensorFlow backend.\n"
     ]
    }
   ],
   "source": [
    "import numpy as np\n",
    "import tensorflow as tf\n",
    "import cv2\n",
    "import os\n",
    "import matplotlib.pyplot as plt\n",
    "\n",
    "import keras\n",
    "\n",
    "from keras.models import Sequential, Model\n",
    "from keras.layers import Dense, Flatten, Conv2D, MaxPooling2D, Dropout, Input\n",
    "from keras.utils import to_categorical\n",
    "from keras.optimizers import SGD, RMSprop, adadelta, Adam\n",
    "\n",
    "from keras.preprocessing.image import ImageDataGenerator\n",
    "from keras.callbacks import ModelCheckpoint, TensorBoard, EarlyStopping"
   ]
  },
  {
   "cell_type": "code",
   "execution_count": 2,
   "metadata": {
    "ExecuteTime": {
     "end_time": "2019-01-11T09:19:29.785321Z",
     "start_time": "2019-01-11T09:19:29.781975Z"
    }
   },
   "outputs": [],
   "source": [
    "img_rows = 32\n",
    "img_cols = 32\n",
    "num_channels = 1\n",
    "epochs = 50\n",
    "num_classes = 10\n",
    "batch_size = 16\n",
    "NAME = \"only_numbers_\" + str(epochs)\n",
    "directory = 'dataset/'"
   ]
  },
  {
   "cell_type": "code",
   "execution_count": 3,
   "metadata": {
    "ExecuteTime": {
     "end_time": "2019-01-11T09:19:30.456527Z",
     "start_time": "2019-01-11T09:19:29.787621Z"
    }
   },
   "outputs": [
    {
     "name": "stderr",
     "output_type": "stream",
     "text": [
      "/home/praneet/envs/deeplearning/lib/python3.5/site-packages/keras_preprocessing/image.py:836: UserWarning: This ImageDataGenerator specifies `zca_whitening`, which overrides setting of `featurewise_center`.\n",
      "  warnings.warn('This ImageDataGenerator specifies '\n"
     ]
    },
    {
     "name": "stdout",
     "output_type": "stream",
     "text": [
      "Found 5040 images belonging to 10 classes.\n",
      "Found 1260 images belonging to 10 classes.\n"
     ]
    }
   ],
   "source": [
    "train_datagen = ImageDataGenerator(rescale=1./255,\n",
    "    shear_range=0.2,\n",
    "    zoom_range=0.2,\n",
    "    horizontal_flip=False,\n",
    "    zca_whitening=True,\n",
    "    \n",
    "    validation_split=0.2) # set validation split\n",
    "\n",
    "train_generator = train_datagen.flow_from_directory(\n",
    "    directory,\n",
    "    target_size=(img_rows, img_cols),\n",
    "    batch_size=batch_size,\n",
    "    color_mode=\"grayscale\",\n",
    "    class_mode='categorical',\n",
    "    subset='training') # set as training data\n",
    "\n",
    "validation_generator = train_datagen.flow_from_directory(\n",
    "    directory, # same directory as training data\n",
    "    target_size=(img_rows, img_cols),\n",
    "    batch_size=batch_size,\n",
    "    color_mode=\"grayscale\",\n",
    "    class_mode='categorical',\n",
    "    subset='validation') # set as validation data"
   ]
  },
  {
   "cell_type": "code",
   "execution_count": 4,
   "metadata": {
    "ExecuteTime": {
     "end_time": "2019-01-11T09:19:33.649560Z",
     "start_time": "2019-01-11T09:19:30.460452Z"
    }
   },
   "outputs": [],
   "source": [
    "tensorboard = TensorBoard(log_dir = 'logs/' + NAME)"
   ]
  },
  {
   "cell_type": "code",
   "execution_count": 5,
   "metadata": {
    "ExecuteTime": {
     "end_time": "2019-01-11T09:19:33.656212Z",
     "start_time": "2019-01-11T09:19:33.651056Z"
    }
   },
   "outputs": [],
   "source": [
    "augmented_checkpoint = ModelCheckpoint('models/augmented_best_model.h5',  # model filename\n",
    "                                       monitor='val_loss',  # quantity to monitor\n",
    "                                       verbose=1,  # verbosity - 0 or 1\n",
    "                                       save_best_only=True,  # The latest best model will not be overwritten\n",
    "                                       mode='auto')"
   ]
  },
  {
   "cell_type": "code",
   "execution_count": 6,
   "metadata": {
    "ExecuteTime": {
     "end_time": "2019-01-11T09:19:33.989228Z",
     "start_time": "2019-01-11T09:19:33.659057Z"
    }
   },
   "outputs": [
    {
     "name": "stdout",
     "output_type": "stream",
     "text": [
      "_________________________________________________________________\n",
      "Layer (type)                 Output Shape              Param #   \n",
      "=================================================================\n",
      "conv2d_1 (Conv2D)            (None, 30, 30, 64)        640       \n",
      "_________________________________________________________________\n",
      "conv2d_2 (Conv2D)            (None, 28, 28, 64)        36928     \n",
      "_________________________________________________________________\n",
      "max_pooling2d_1 (MaxPooling2 (None, 28, 28, 64)        0         \n",
      "_________________________________________________________________\n",
      "conv2d_3 (Conv2D)            (None, 26, 26, 128)       73856     \n",
      "_________________________________________________________________\n",
      "conv2d_4 (Conv2D)            (None, 24, 24, 128)       147584    \n",
      "_________________________________________________________________\n",
      "max_pooling2d_2 (MaxPooling2 (None, 8, 8, 128)         0         \n",
      "_________________________________________________________________\n",
      "dropout_1 (Dropout)          (None, 8, 8, 128)         0         \n",
      "_________________________________________________________________\n",
      "conv2d_5 (Conv2D)            (None, 6, 6, 256)         295168    \n",
      "_________________________________________________________________\n",
      "max_pooling2d_3 (MaxPooling2 (None, 3, 3, 256)         0         \n",
      "_________________________________________________________________\n",
      "flatten_1 (Flatten)          (None, 2304)              0         \n",
      "_________________________________________________________________\n",
      "dense_1 (Dense)              (None, 256)               590080    \n",
      "_________________________________________________________________\n",
      "dropout_2 (Dropout)          (None, 256)               0         \n",
      "_________________________________________________________________\n",
      "dense_2 (Dense)              (None, 128)               32896     \n",
      "_________________________________________________________________\n",
      "dense_3 (Dense)              (None, 10)                1290      \n",
      "=================================================================\n",
      "Total params: 1,178,442\n",
      "Trainable params: 1,178,442\n",
      "Non-trainable params: 0\n",
      "_________________________________________________________________\n"
     ]
    }
   ],
   "source": [
    "model = Sequential()\n",
    "\n",
    "model.add(Conv2D(64, (3, 3), strides=(1, 1), activation='relu', input_shape=(img_rows, img_rows, num_channels)))\n",
    "model.add(Conv2D(64, (3, 3), strides=(1, 1), activation='relu'))\n",
    "model.add(MaxPooling2D(pool_size=(1, 1)))\n",
    "\n",
    "model.add(Conv2D(128, (3, 3), strides=(1, 1), activation='relu'))\n",
    "model.add(Conv2D(128, (3, 3), strides=(1, 1), activation='relu'))\n",
    "model.add(MaxPooling2D(pool_size=(3, 3)))\n",
    "model.add(Dropout(0.5))\n",
    "\n",
    "model.add(Conv2D(256, (3, 3), strides=(1, 1), activation='relu'))\n",
    "model.add(MaxPooling2D(pool_size=(2, 2)))\n",
    "\n",
    "model.add(Flatten())\n",
    "model.add(Dense(256, activation='relu'))\n",
    "model.add(Dropout(0.5))\n",
    "\n",
    "model.add(Dense(128, activation='relu'))\n",
    "model.add(Dense(num_classes, activation='softmax'))\n",
    "\n",
    "model.compile(loss='categorical_crossentropy', optimizer=Adam(lr=0.001, decay=1e-6), metrics=['accuracy'])\n",
    "model.summary()"
   ]
  },
  {
   "cell_type": "code",
   "execution_count": 7,
   "metadata": {
    "ExecuteTime": {
     "end_time": "2019-01-11T09:19:34.040782Z",
     "start_time": "2019-01-11T09:19:33.991074Z"
    }
   },
   "outputs": [],
   "source": [
    "model.compile(loss=keras.losses.categorical_crossentropy,  # Better loss function for neural networks\n",
    "              optimizer=Adam(lr=0.001, decay=1e-6),  # Adam optimizer with 1.0e-4 learning rate\n",
    "              metrics=['accuracy'])  # Metrics to be evaluated by the model"
   ]
  },
  {
   "cell_type": "code",
   "execution_count": 8,
   "metadata": {
    "ExecuteTime": {
     "end_time": "2019-01-11T09:38:17.344377Z",
     "start_time": "2019-01-11T09:19:34.042587Z"
    }
   },
   "outputs": [
    {
     "name": "stdout",
     "output_type": "stream",
     "text": [
      "Epoch 1/50\n"
     ]
    },
    {
     "name": "stderr",
     "output_type": "stream",
     "text": [
      "/home/praneet/envs/deeplearning/lib/python3.5/site-packages/keras_preprocessing/image.py:1131: UserWarning: This ImageDataGenerator specifies `featurewise_center`, but it hasn't been fit on any training data. Fit it first by calling `.fit(numpy_data)`.\n",
      "  warnings.warn('This ImageDataGenerator specifies '\n",
      "/home/praneet/envs/deeplearning/lib/python3.5/site-packages/keras_preprocessing/image.py:1150: UserWarning: This ImageDataGenerator specifies `zca_whitening`, but it hasn't been fit on any training data. Fit it first by calling `.fit(numpy_data)`.\n",
      "  warnings.warn('This ImageDataGenerator specifies '\n"
     ]
    },
    {
     "name": "stdout",
     "output_type": "stream",
     "text": [
      "64/64 [==============================] - 22s 341ms/step - loss: 1.6984 - acc: 0.3535 - val_loss: 0.7743 - val_acc: 0.7207\n",
      "\n",
      "Epoch 00001: val_loss improved from inf to 0.77431, saving model to models/augmented_best_model.h5\n",
      "Epoch 2/50\n",
      "64/64 [==============================] - 22s 339ms/step - loss: 0.6644 - acc: 0.7549 - val_loss: 0.1895 - val_acc: 0.9512\n",
      "\n",
      "Epoch 00002: val_loss improved from 0.77431 to 0.18947, saving model to models/augmented_best_model.h5\n",
      "Epoch 3/50\n",
      "64/64 [==============================] - 23s 352ms/step - loss: 0.2655 - acc: 0.9062 - val_loss: 0.1686 - val_acc: 0.9587\n",
      "\n",
      "Epoch 00003: val_loss improved from 0.18947 to 0.16857, saving model to models/augmented_best_model.h5\n",
      "Epoch 4/50\n",
      "64/64 [==============================] - 23s 359ms/step - loss: 0.1807 - acc: 0.9355 - val_loss: 0.1298 - val_acc: 0.9570\n",
      "\n",
      "Epoch 00004: val_loss improved from 0.16857 to 0.12980, saving model to models/augmented_best_model.h5\n",
      "Epoch 5/50\n",
      "64/64 [==============================] - 23s 357ms/step - loss: 0.1153 - acc: 0.9746 - val_loss: 0.0591 - val_acc: 0.9705\n",
      "\n",
      "Epoch 00005: val_loss improved from 0.12980 to 0.05912, saving model to models/augmented_best_model.h5\n",
      "Epoch 6/50\n",
      "64/64 [==============================] - 23s 353ms/step - loss: 0.1237 - acc: 0.9600 - val_loss: 0.1503 - val_acc: 0.9492\n",
      "\n",
      "Epoch 00006: val_loss did not improve from 0.05912\n",
      "Epoch 7/50\n",
      "64/64 [==============================] - 23s 354ms/step - loss: 0.0687 - acc: 0.9775 - val_loss: 0.0660 - val_acc: 0.9805\n",
      "\n",
      "Epoch 00007: val_loss did not improve from 0.05912\n",
      "Epoch 8/50\n",
      "64/64 [==============================] - 22s 351ms/step - loss: 0.0945 - acc: 0.9727 - val_loss: 0.0632 - val_acc: 0.9783\n",
      "\n",
      "Epoch 00008: val_loss did not improve from 0.05912\n",
      "Epoch 9/50\n",
      "64/64 [==============================] - 23s 354ms/step - loss: 0.0529 - acc: 0.9834 - val_loss: 0.0877 - val_acc: 0.9746\n",
      "\n",
      "Epoch 00009: val_loss did not improve from 0.05912\n",
      "Epoch 10/50\n",
      "64/64 [==============================] - 23s 359ms/step - loss: 0.0476 - acc: 0.9854 - val_loss: 0.0413 - val_acc: 0.9843\n",
      "\n",
      "Epoch 00010: val_loss improved from 0.05912 to 0.04132, saving model to models/augmented_best_model.h5\n",
      "Epoch 11/50\n",
      "64/64 [==============================] - 22s 349ms/step - loss: 0.0841 - acc: 0.9766 - val_loss: 0.0703 - val_acc: 0.9766\n",
      "\n",
      "Epoch 00011: val_loss did not improve from 0.04132\n",
      "Epoch 12/50\n",
      "64/64 [==============================] - 22s 351ms/step - loss: 0.0410 - acc: 0.9844 - val_loss: 0.0744 - val_acc: 0.9805\n",
      "\n",
      "Epoch 00012: val_loss did not improve from 0.04132\n",
      "Epoch 13/50\n",
      "64/64 [==============================] - 23s 358ms/step - loss: 0.0266 - acc: 0.9893 - val_loss: 0.0945 - val_acc: 0.9705\n",
      "\n",
      "Epoch 00013: val_loss did not improve from 0.04132\n",
      "Epoch 14/50\n",
      "64/64 [==============================] - 22s 349ms/step - loss: 0.0414 - acc: 0.9883 - val_loss: 0.2272 - val_acc: 0.9492\n",
      "\n",
      "Epoch 00014: val_loss did not improve from 0.04132\n",
      "Epoch 15/50\n",
      "64/64 [==============================] - 22s 350ms/step - loss: 0.0761 - acc: 0.9756 - val_loss: 0.0806 - val_acc: 0.9764\n",
      "\n",
      "Epoch 00015: val_loss did not improve from 0.04132\n",
      "Epoch 16/50\n",
      "64/64 [==============================] - 23s 352ms/step - loss: 0.0423 - acc: 0.9902 - val_loss: 0.0874 - val_acc: 0.9785\n",
      "\n",
      "Epoch 00016: val_loss did not improve from 0.04132\n",
      "Epoch 17/50\n",
      "64/64 [==============================] - 22s 350ms/step - loss: 0.0547 - acc: 0.9805 - val_loss: 0.0251 - val_acc: 0.9922\n",
      "\n",
      "Epoch 00017: val_loss improved from 0.04132 to 0.02506, saving model to models/augmented_best_model.h5\n",
      "Epoch 18/50\n",
      "64/64 [==============================] - 22s 349ms/step - loss: 0.0242 - acc: 0.9912 - val_loss: 0.0348 - val_acc: 0.9882\n",
      "\n",
      "Epoch 00018: val_loss did not improve from 0.02506\n",
      "Epoch 19/50\n",
      "64/64 [==============================] - 22s 351ms/step - loss: 0.0509 - acc: 0.9873 - val_loss: 0.0782 - val_acc: 0.9805\n",
      "\n",
      "Epoch 00019: val_loss did not improve from 0.02506\n",
      "Epoch 20/50\n",
      "64/64 [==============================] - 22s 350ms/step - loss: 0.0448 - acc: 0.9922 - val_loss: 0.0834 - val_acc: 0.9764\n",
      "\n",
      "Epoch 00020: val_loss did not improve from 0.02506\n",
      "Epoch 21/50\n",
      "64/64 [==============================] - 22s 350ms/step - loss: 0.0227 - acc: 0.9951 - val_loss: 0.1019 - val_acc: 0.9727\n",
      "\n",
      "Epoch 00021: val_loss did not improve from 0.02506\n",
      "Epoch 22/50\n",
      "64/64 [==============================] - 22s 351ms/step - loss: 0.0168 - acc: 0.9941 - val_loss: 0.0827 - val_acc: 0.9824\n",
      "\n",
      "Epoch 00022: val_loss did not improve from 0.02506\n",
      "Epoch 23/50\n",
      "64/64 [==============================] - 23s 363ms/step - loss: 0.0515 - acc: 0.9844 - val_loss: 0.0410 - val_acc: 0.9882\n",
      "\n",
      "Epoch 00023: val_loss did not improve from 0.02506\n",
      "Epoch 24/50\n",
      "64/64 [==============================] - 22s 350ms/step - loss: 0.0173 - acc: 0.9922 - val_loss: 0.1075 - val_acc: 0.9785\n",
      "\n",
      "Epoch 00024: val_loss did not improve from 0.02506\n",
      "Epoch 25/50\n",
      "64/64 [==============================] - 22s 348ms/step - loss: 0.0138 - acc: 0.9932 - val_loss: 0.0411 - val_acc: 0.9843\n",
      "\n",
      "Epoch 00025: val_loss did not improve from 0.02506\n",
      "Epoch 26/50\n",
      "64/64 [==============================] - 22s 350ms/step - loss: 0.0814 - acc: 0.9775 - val_loss: 0.0631 - val_acc: 0.9844\n",
      "\n",
      "Epoch 00026: val_loss did not improve from 0.02506\n",
      "Epoch 27/50\n",
      "64/64 [==============================] - 22s 350ms/step - loss: 0.0423 - acc: 0.9863 - val_loss: 0.0288 - val_acc: 0.9941\n",
      "\n",
      "Epoch 00027: val_loss did not improve from 0.02506\n",
      "Epoch 28/50\n",
      "64/64 [==============================] - 22s 350ms/step - loss: 0.0358 - acc: 0.9912 - val_loss: 0.0432 - val_acc: 0.9941\n",
      "\n",
      "Epoch 00028: val_loss did not improve from 0.02506\n",
      "Epoch 29/50\n",
      "64/64 [==============================] - 22s 349ms/step - loss: 0.0138 - acc: 0.9951 - val_loss: 0.0329 - val_acc: 0.9883\n",
      "\n",
      "Epoch 00029: val_loss did not improve from 0.02506\n",
      "Epoch 30/50\n",
      "64/64 [==============================] - 22s 349ms/step - loss: 0.0311 - acc: 0.9902 - val_loss: 0.0173 - val_acc: 0.9941\n",
      "\n",
      "Epoch 00030: val_loss improved from 0.02506 to 0.01735, saving model to models/augmented_best_model.h5\n",
      "Epoch 31/50\n",
      "64/64 [==============================] - 23s 352ms/step - loss: 0.0269 - acc: 0.9902 - val_loss: 0.0783 - val_acc: 0.9785\n",
      "\n",
      "Epoch 00031: val_loss did not improve from 0.01735\n",
      "Epoch 32/50\n",
      "64/64 [==============================] - 22s 350ms/step - loss: 0.0284 - acc: 0.9912 - val_loss: 0.0564 - val_acc: 0.9824\n",
      "\n",
      "Epoch 00032: val_loss did not improve from 0.01735\n",
      "Epoch 33/50\n",
      "64/64 [==============================] - 22s 351ms/step - loss: 0.0104 - acc: 0.9971 - val_loss: 0.1903 - val_acc: 0.9764\n",
      "\n",
      "Epoch 00033: val_loss did not improve from 0.01735\n",
      "Epoch 34/50\n",
      "64/64 [==============================] - 22s 350ms/step - loss: 0.0367 - acc: 0.9941 - val_loss: 0.2875 - val_acc: 0.9688\n",
      "\n",
      "Epoch 00034: val_loss did not improve from 0.01735\n",
      "Epoch 35/50\n",
      "64/64 [==============================] - 22s 350ms/step - loss: 0.0266 - acc: 0.9922 - val_loss: 0.1013 - val_acc: 0.9902\n",
      "\n",
      "Epoch 00035: val_loss did not improve from 0.01735\n",
      "Epoch 36/50\n",
      "64/64 [==============================] - 22s 351ms/step - loss: 0.0243 - acc: 0.9912 - val_loss: 0.0395 - val_acc: 0.9922\n",
      "\n",
      "Epoch 00036: val_loss did not improve from 0.01735\n",
      "Epoch 37/50\n",
      "64/64 [==============================] - 22s 350ms/step - loss: 0.0240 - acc: 0.9941 - val_loss: 0.0184 - val_acc: 0.9961\n",
      "\n",
      "Epoch 00037: val_loss did not improve from 0.01735\n",
      "Epoch 38/50\n",
      "64/64 [==============================] - 22s 350ms/step - loss: 0.0174 - acc: 0.9941 - val_loss: 0.0136 - val_acc: 0.9941\n",
      "\n",
      "Epoch 00038: val_loss improved from 0.01735 to 0.01362, saving model to models/augmented_best_model.h5\n",
      "Epoch 39/50\n",
      "64/64 [==============================] - 22s 350ms/step - loss: 0.0193 - acc: 0.9932 - val_loss: 0.0411 - val_acc: 0.9922\n",
      "\n",
      "Epoch 00039: val_loss did not improve from 0.01362\n",
      "Epoch 40/50\n",
      "64/64 [==============================] - 22s 349ms/step - loss: 0.1448 - acc: 0.9707 - val_loss: 0.0022 - val_acc: 1.0000\n",
      "\n",
      "Epoch 00040: val_loss improved from 0.01362 to 0.00223, saving model to models/augmented_best_model.h5\n",
      "Epoch 41/50\n",
      "64/64 [==============================] - 22s 349ms/step - loss: 0.0530 - acc: 0.9912 - val_loss: 0.1794 - val_acc: 0.9785\n",
      "\n",
      "Epoch 00041: val_loss did not improve from 0.00223\n",
      "Epoch 42/50\n",
      "64/64 [==============================] - 22s 346ms/step - loss: 0.0328 - acc: 0.9893 - val_loss: 0.0876 - val_acc: 0.9902\n",
      "\n",
      "Epoch 00042: val_loss did not improve from 0.00223\n",
      "Epoch 43/50\n",
      "64/64 [==============================] - 22s 346ms/step - loss: 0.0143 - acc: 0.9951 - val_loss: 0.0640 - val_acc: 0.9863\n",
      "\n",
      "Epoch 00043: val_loss did not improve from 0.00223\n",
      "Epoch 44/50\n",
      "64/64 [==============================] - 22s 347ms/step - loss: 0.0100 - acc: 0.9971 - val_loss: 0.0798 - val_acc: 0.9863\n",
      "\n",
      "Epoch 00044: val_loss did not improve from 0.00223\n",
      "Epoch 45/50\n",
      "64/64 [==============================] - 22s 347ms/step - loss: 0.0118 - acc: 0.9971 - val_loss: 0.0541 - val_acc: 0.9921\n",
      "\n",
      "Epoch 00045: val_loss did not improve from 0.00223\n",
      "Epoch 46/50\n",
      "64/64 [==============================] - 22s 348ms/step - loss: 0.0126 - acc: 0.9980 - val_loss: 0.1027 - val_acc: 0.9863\n",
      "\n",
      "Epoch 00046: val_loss did not improve from 0.00223\n",
      "Epoch 47/50\n",
      "64/64 [==============================] - 22s 347ms/step - loss: 7.7616e-04 - acc: 1.0000 - val_loss: 0.0079 - val_acc: 0.9980\n",
      "\n",
      "Epoch 00047: val_loss did not improve from 0.00223\n",
      "Epoch 48/50\n",
      "64/64 [==============================] - 22s 348ms/step - loss: 0.0014 - acc: 1.0000 - val_loss: 0.1083 - val_acc: 0.9902\n",
      "\n",
      "Epoch 00048: val_loss did not improve from 0.00223\n",
      "Epoch 49/50\n",
      "64/64 [==============================] - 22s 349ms/step - loss: 0.0028 - acc: 0.9990 - val_loss: 0.1539 - val_acc: 0.9824\n",
      "\n",
      "Epoch 00049: val_loss did not improve from 0.00223\n",
      "Epoch 50/50\n",
      "64/64 [==============================] - 22s 348ms/step - loss: 0.0067 - acc: 0.9971 - val_loss: 0.0119 - val_acc: 0.9980\n",
      "\n",
      "Epoch 00050: val_loss did not improve from 0.00223\n"
     ]
    }
   ],
   "source": [
    "history = model.fit_generator(generator=train_generator,\n",
    "                    validation_data=validation_generator,\n",
    "                    epochs=epochs,\n",
    "                    callbacks=[augmented_checkpoint, tensorboard],\n",
    "                    verbose=1,\n",
    "                    steps_per_epoch=64,\n",
    "                    validation_steps=32,\n",
    ")"
   ]
  },
  {
   "cell_type": "code",
   "execution_count": 9,
   "metadata": {
    "ExecuteTime": {
     "end_time": "2019-01-11T09:39:14.874308Z",
     "start_time": "2019-01-11T09:39:14.846652Z"
    }
   },
   "outputs": [
    {
     "name": "stdout",
     "output_type": "stream",
     "text": [
      "Saved model to disk\n"
     ]
    }
   ],
   "source": [
    "# serialize model to JSON\n",
    "model_json = model.to_json()\n",
    "with open(\"models/model.json\", \"w\") as json_file:\n",
    "    json_file.write(model_json)\n",
    "# serialize weights to HDF5\n",
    "model.save_weights(\"models/model.h5\")\n",
    "print(\"Saved model to disk\")"
   ]
  },
  {
   "cell_type": "code",
   "execution_count": 10,
   "metadata": {
    "ExecuteTime": {
     "end_time": "2019-01-11T09:42:35.558537Z",
     "start_time": "2019-01-11T09:42:35.328531Z"
    }
   },
   "outputs": [],
   "source": [
    "%matplotlib inline\n",
    "\n",
    "import glob\n",
    "import matplotlib\n",
    "from matplotlib import pyplot as plt\n",
    "import matplotlib.image as mpimg\n",
    "import numpy as np\n",
    "import imageio as im\n",
    "from keras import models\n",
    "from keras.preprocessing import image"
   ]
  },
  {
   "cell_type": "code",
   "execution_count": 11,
   "metadata": {
    "ExecuteTime": {
     "end_time": "2019-01-11T09:42:43.433144Z",
     "start_time": "2019-01-11T09:42:42.826446Z"
    }
   },
   "outputs": [
    {
     "data": {
      "image/png": "[encoded data removed]",
      "text/plain": [
       "<Figure size 432x288 with 1 Axes>"
      ]
     },
     "metadata": {},
     "output_type": "display_data"
    },
    {
     "data": {
      "image/png": "[encoded data removed]",
      "text/plain": [
       "<Figure size 432x288 with 1 Axes>"
      ]
     },
     "metadata": {},
     "output_type": "display_data"
    }
   ],
   "source": [
    "# summarize history for accuracy\n",
    "plt.plot(history.history['acc'])\n",
    "plt.plot(history.history['val_acc'])\n",
    "plt.title('model accuracy')\n",
    "plt.ylabel('accuracy')\n",
    "plt.xlabel('epoch')\n",
    "plt.legend(['train', 'test'], loc='upper left')\n",
    "plt.show()\n",
    "# summarize history for loss\n",
    "plt.plot(history.history['loss'])\n",
    "plt.plot(history.history['val_loss'])\n",
    "plt.title('model loss')\n",
    "plt.ylabel('loss')\n",
    "plt.xlabel('epoch')\n",
    "plt.legend(['train', 'test'], loc='upper left')\n",
    "plt.show()"
   ]
  },
  {
   "cell_type": "code",
   "execution_count": 145,
   "metadata": {
    "ExecuteTime": {
     "end_time": "2019-01-11T11:49:08.544293Z",
     "start_time": "2019-01-11T11:49:08.388678Z"
    }
   },
   "outputs": [
    {
     "data": {
      "image/png": "[encoded data removed]",
      "text/plain": [
       "<PIL.PngImagePlugin.PngImageFile image mode=RGBA size=287x1423 at 0x7FB5323137B8>"
      ]
     },
     "execution_count": 145,
     "metadata": {},
     "output_type": "execute_result"
    }
   ],
   "source": [
    "from keras.utils import plot_model\n",
    "from PIL import Image\n",
    "\n",
    "plot_model(model, to_file='model.png')\n",
    "Image.open('model.png')"
   ]
  },
  {
   "cell_type": "code",
   "execution_count": 28,
   "metadata": {
    "ExecuteTime": {
     "end_time": "2019-01-11T12:53:17.771535Z",
     "start_time": "2019-01-11T12:53:10.227697Z"
    },
    "scrolled": true
   },
   "outputs": [
    {
     "name": "stdout",
     "output_type": "stream",
     "text": [
      "[0]\n",
      "[0]\n",
      "[3]\n",
      "[6]\n",
      "[3]\n"
     ]
    }
   ],
   "source": [
    "# img = cv2.imread('ignore/unnamed.jpg', 0)\n",
    "# # img = cv2.resize(img, (600, 300))\n",
    "# # img = cv2.adaptiveThreshold(img, 255, cv2.ADAPTIVE_THRESH_GAUSSIAN_C, cv2.THRESH_BINARY_INV, 15, 5)\n",
    "\n",
    "# kernel_sharpening = np.array([[-1,-1,-1], \n",
    "#                               [-1, 9,-1],\n",
    "#                               [-1,-1,-1]])\n",
    "# img = cv2.GaussianBlur(img, (5, 5), 0)\n",
    "# img = cv2.adaptiveThreshold(img,255, cv2.ADAPTIVE_THRESH_GAUSSIAN_C, cv2.THRESH_BINARY_INV,15,5)\n",
    "# img = cv2.GaussianBlur(img, (5, 5), 0)\n",
    "# img = cv2.filter2D(img, -1, kernel_sharpening)\n",
    "\n",
    "# kernel = np.ones((5, 2), np.uint8)\n",
    "\n",
    "# # test = cv2.morphologyEx(OBinary, cv2.MORPH_OPEN, kernel)\n",
    "# test = cv2.dilate(img, kernel, iterations = 1)\n",
    "\n",
    "# test = cv2.Canny(test, 30, 150)\n",
    "\n",
    "# _, ctrs_line, _ = cv2.findContours(test.copy(), cv2.RETR_EXTERNAL, cv2.CHAIN_APPROX_SIMPLE)\n",
    "# # sorted_ctrs_line = sorted(ctrs_line, key=lambda ctr: cv2.boundingRect(ctr)[0])\n",
    "# # img = cv2.copyMakeBorder(img, 40, 40, 40, 40, cv2.BORDER_CONSTANT)\n",
    "# # img = cv2.resize(img, (32, 32))\n",
    "# cv2.imshow('test', test)\n",
    "# cv2.waitKey(0)\n",
    "# cv2.destroyAllWindows()\n",
    "# for i, ctr_line in enumerate(sorted_ctrs_line):\n",
    "#     x_line, y_line, w_line, h_line = cv2.boundingRect(ctr_line)\n",
    "#     if w_line * h_line < 200 or h_line < 20:\n",
    "#         continue\n",
    "# #     print(x_line, y_line, w_line, h_line)\n",
    "#     cropped_line = img[y_line:y_line + h_line, x_line:x_line + w_line]\n",
    "#     cropped_line = cv2.copyMakeBorder(cropped_line, 1,1,1,1,cv2.BORDER_CONSTANT)\n",
    "#     cropped_line = cv2.resize(cropped_line, (32, 32))\n",
    "#     cropped_line = cv2.copyMakeBorder(cropped_line, 2,2,2,2,cv2.BORDER_CONSTANT)\n",
    "#     cropped_line = cv2.resize(cropped_line, (32, 32))\n",
    "#     cv2.imshow('test', cropped_line)\n",
    "#     cv2.waitKey(0)\n",
    "#     cv2.destroyAllWindows()\n",
    "#     output = model.predict_classes(cropped_line.reshape(-1, 32, 32, 1))\n",
    "#     print(output)\n",
    "\n",
    "# # for i, ctr_line in enumerate(sorted_ctrs_line):\n",
    "# #     # getting coordinates of the line contour\n",
    "# #     x_line, y_line, w_line, h_line = cv2.boundingRect(ctr_line)\n",
    "    \n",
    "# #     cv2.imshow('test', img)\n",
    "# #     cv2.waitKey(0)\n",
    "# #     cv2.destroyAllWindows()\n",
    "\n",
    "# cv2.destroyAllWindows()\n",
    "\n",
    "\n",
    "# # output = model.predict_classes(img.reshape(-1, 32, 32, 1))\n",
    "# # print(output)"
   ]
  },
  {
   "cell_type": "code",
   "execution_count": 8,
   "metadata": {
    "ExecuteTime": {
     "end_time": "2019-01-11T12:47:36.287782Z",
     "start_time": "2019-01-11T12:47:36.179698Z"
    }
   },
   "outputs": [],
   "source": [
    "from keras.models import load_model\n",
    "import cv2"
   ]
  },
  {
   "cell_type": "code",
   "execution_count": 3,
   "metadata": {
    "ExecuteTime": {
     "end_time": "2019-01-11T12:44:38.481124Z",
     "start_time": "2019-01-11T12:44:37.166570Z"
    }
   },
   "outputs": [],
   "source": [
    "# json_file = open('ocr_model.json', 'r')\n",
    "# loaded_model_json = json_file.read()\n",
    "# json_file.close()\n",
    "# model = model_from_json(loaded_model_json)\n",
    "# # load weights into new model\n",
    "# model.load_weights(\"ocr_weights.h5\")\n",
    "\n",
    "model = load_model('models/augmented_best_model.h5')"
   ]
  },
  {
   "cell_type": "code",
   "execution_count": 5,
   "metadata": {
    "ExecuteTime": {
     "end_time": "2019-01-11T12:45:12.433274Z",
     "start_time": "2019-01-11T12:45:12.421043Z"
    }
   },
   "outputs": [
    {
     "data": {
      "text/plain": [
       "<keras.engine.sequential.Sequential at 0x7f061e7c5978>"
      ]
     },
     "execution_count": 5,
     "metadata": {},
     "output_type": "execute_result"
    }
   ],
   "source": [
    "m"
   ]
  },
  {
   "cell_type": "code",
   "execution_count": 23,
   "metadata": {
    "ExecuteTime": {
     "end_time": "2019-01-11T12:51:16.106036Z",
     "start_time": "2019-01-11T12:51:13.155756Z"
    }
   },
   "outputs": [
    {
     "name": "stdout",
     "output_type": "stream",
     "text": [
      "[6]\n"
     ]
    }
   ],
   "source": [
    "img = cv2.imread('ignore/five', 0)\n",
    "_, img = cv2.threshold(img, 200, 255, cv2.THRESH_BINARY_INV)\n",
    "img = cv2.copyMakeBorder(img, 40, 40 ,40, 40,cv2.BORDER_CONSTANT)\n",
    "img = cv2.resize(img, (32, 32))\n",
    "cv2.imshow('image', img)\n",
    "cv2.waitKey(0)\n",
    "cv2.destroyAllWindows()\n",
    "output = model.predict_classes(img.reshape(-1, 32, 32, 1))\n",
    "print(output)"
   ]
  },
  {
   "cell_type": "code",
   "execution_count": null,
   "metadata": {},
   "outputs": [],
   "source": []
  }
 ],
 "metadata": {
  "kernelspec": {
   "display_name": "Python 3",
   "language": "python",
   "name": "python3"
  },
  "language_info": {
   "codemirror_mode": {
    "name": "ipython",
    "version": 3
   },
   "file_extension": ".py",
   "mimetype": "text/x-python",
   "name": "python",
   "nbconvert_exporter": "python",
   "pygments_lexer": "ipython3",
   "version": "3.5.2"
  },
  "varInspector": {
   "cols": {
    "lenName": 16,
    "lenType": 16,
    "lenVar": 40
   },
   "kernels_config": {
    "python": {
     "delete_cmd_postfix": "",
     "delete_cmd_prefix": "del ",
     "library": "var_list.py",
     "varRefreshCmd": "print(var_dic_list())"
    },
    "r": {
     "delete_cmd_postfix": ") ",
     "delete_cmd_prefix": "rm(",
     "library": "var_list.r",
     "varRefreshCmd": "cat(var_dic_list()) "
    }
   },
   "types_to_exclude": [
    "module",
    "function",
    "builtin_function_or_method",
    "instance",
    "_Feature"
   ],
   "window_display": false
  }
 },
 "nbformat": 4,
 "nbformat_minor": 2
}
